{
 "cells": [
  {
   "cell_type": "code",
   "execution_count": null,
   "metadata": {},
   "outputs": [],
   "source": [
    "import csv\n",
    "import requests\n",
    "from utils import fetch_and_save_data, fetch_photo_from_path\n",
    "import pandas as pd"
   ]
  },
  {
   "cell_type": "code",
   "execution_count": null,
   "metadata": {},
   "outputs": [],
   "source": [
    "tags = [\"street warsaw\", \"street people\", \"festival\", \"people outside\", \"rain\", \"winter in the city\", \"summer in the city\", \"street festival\", \"people countryside\", \"men outside\", \"women outside\", \"street new york\", \"street los angeles\", \"crowded street\"]"
   ]
  },
  {
   "cell_type": "code",
   "execution_count": null,
   "metadata": {},
   "outputs": [],
   "source": [
    "#for tag in tags:\n",
    "#    fetch_and_save_data(tag, 500)"
   ]
  },
  {
   "cell_type": "code",
   "execution_count": null,
   "metadata": {},
   "outputs": [],
   "source": [
    "df = pd.read_csv(\"flickr_data1.csv\")"
   ]
  },
  {
   "cell_type": "code",
   "execution_count": null,
   "metadata": {},
   "outputs": [
    {
     "name": "stdout",
     "output_type": "stream",
     "text": [
      "<class 'pandas.core.frame.DataFrame'>\n",
      "RangeIndex: 2791 entries, 0 to 2790\n",
      "Data columns (total 5 columns):\n",
      " #   Column      Non-Null Count  Dtype  \n",
      "---  ------      --------------  -----  \n",
      " 0   Photo URL   2791 non-null   object \n",
      " 1   Date Taken  2791 non-null   object \n",
      " 2   Latitude    2791 non-null   float64\n",
      " 3   Longitude   2791 non-null   float64\n",
      " 4   tag         2791 non-null   object \n",
      "dtypes: float64(2), object(3)\n",
      "memory usage: 109.2+ KB\n"
     ]
    }
   ],
   "source": [
    "df.info()"
   ]
  },
  {
   "cell_type": "code",
   "execution_count": null,
   "metadata": {},
   "outputs": [],
   "source": [
    "df1 = pd.read_csv(\"flickr_data.csv\")"
   ]
  },
  {
   "cell_type": "code",
   "execution_count": null,
   "metadata": {},
   "outputs": [
    {
     "name": "stdout",
     "output_type": "stream",
     "text": [
      "<class 'pandas.core.frame.DataFrame'>\n",
      "RangeIndex: 979 entries, 0 to 978\n",
      "Data columns (total 5 columns):\n",
      " #   Column      Non-Null Count  Dtype  \n",
      "---  ------      --------------  -----  \n",
      " 0   Photo URL   979 non-null    object \n",
      " 1   Date Taken  979 non-null    object \n",
      " 2   Latitude    979 non-null    float64\n",
      " 3   Longitude   979 non-null    float64\n",
      " 4   tag         979 non-null    object \n",
      "dtypes: float64(2), object(3)\n",
      "memory usage: 38.4+ KB\n"
     ]
    }
   ],
   "source": [
    "df1.info()"
   ]
  },
  {
   "cell_type": "code",
   "execution_count": null,
   "metadata": {},
   "outputs": [],
   "source": [
    "df_merged = pd.concat([df, df1], ignore_index = True)"
   ]
  },
  {
   "cell_type": "code",
   "execution_count": null,
   "metadata": {},
   "outputs": [
    {
     "name": "stdout",
     "output_type": "stream",
     "text": [
      "<class 'pandas.core.frame.DataFrame'>\n",
      "RangeIndex: 3770 entries, 0 to 3769\n",
      "Data columns (total 5 columns):\n",
      " #   Column      Non-Null Count  Dtype  \n",
      "---  ------      --------------  -----  \n",
      " 0   Photo URL   3770 non-null   object \n",
      " 1   Date Taken  3770 non-null   object \n",
      " 2   Latitude    3770 non-null   float64\n",
      " 3   Longitude   3770 non-null   float64\n",
      " 4   tag         3770 non-null   object \n",
      "dtypes: float64(2), object(3)\n",
      "memory usage: 147.4+ KB\n"
     ]
    }
   ],
   "source": [
    "df_merged.info()"
   ]
  },
  {
   "cell_type": "code",
   "execution_count": null,
   "metadata": {},
   "outputs": [],
   "source": [
    "df = df_merged.drop_duplicates()"
   ]
  },
  {
   "cell_type": "code",
   "execution_count": null,
   "metadata": {},
   "outputs": [
    {
     "name": "stdout",
     "output_type": "stream",
     "text": [
      "<class 'pandas.core.frame.DataFrame'>\n",
      "Index: 1651 entries, 0 to 3769\n",
      "Data columns (total 5 columns):\n",
      " #   Column      Non-Null Count  Dtype  \n",
      "---  ------      --------------  -----  \n",
      " 0   Photo URL   1651 non-null   object \n",
      " 1   Date Taken  1651 non-null   object \n",
      " 2   Latitude    1651 non-null   float64\n",
      " 3   Longitude   1651 non-null   float64\n",
      " 4   tag         1651 non-null   object \n",
      "dtypes: float64(2), object(3)\n",
      "memory usage: 77.4+ KB\n"
     ]
    }
   ],
   "source": [
    "df.info()"
   ]
  },
  {
   "cell_type": "code",
   "execution_count": null,
   "metadata": {},
   "outputs": [
    {
     "data": {
      "text/plain": [
       "1645"
      ]
     },
     "execution_count": 13,
     "metadata": {},
     "output_type": "execute_result"
    }
   ],
   "source": [
    "df[\"Photo URL\"].nunique()"
   ]
  },
  {
   "cell_type": "code",
   "execution_count": null,
   "metadata": {},
   "outputs": [
    {
     "name": "stderr",
     "output_type": "stream",
     "text": [
      "/tmp/ipykernel_42100/3262339547.py:1: SettingWithCopyWarning: \n",
      "A value is trying to be set on a copy of a slice from a DataFrame\n",
      "\n",
      "See the caveats in the documentation: https://pandas.pydata.org/pandas-docs/stable/user_guide/indexing.html#returning-a-view-versus-a-copy\n",
      "  df.drop_duplicates(subset=['Photo URL'], inplace=True)\n"
     ]
    }
   ],
   "source": [
    "df.drop_duplicates(subset=['Photo URL'], inplace=True)"
   ]
  },
  {
   "cell_type": "code",
   "execution_count": null,
   "metadata": {},
   "outputs": [
    {
     "name": "stdout",
     "output_type": "stream",
     "text": [
      "<class 'pandas.core.frame.DataFrame'>\n",
      "Index: 1645 entries, 0 to 3769\n",
      "Data columns (total 5 columns):\n",
      " #   Column      Non-Null Count  Dtype  \n",
      "---  ------      --------------  -----  \n",
      " 0   Photo URL   1645 non-null   object \n",
      " 1   Date Taken  1645 non-null   object \n",
      " 2   Latitude    1645 non-null   float64\n",
      " 3   Longitude   1645 non-null   float64\n",
      " 4   tag         1645 non-null   object \n",
      "dtypes: float64(2), object(3)\n",
      "memory usage: 77.1+ KB\n"
     ]
    }
   ],
   "source": [
    "df.info()"
   ]
  },
  {
   "cell_type": "code",
   "execution_count": null,
   "metadata": {},
   "outputs": [
    {
     "data": {
      "text/html": [
       "<div>\n",
       "<style scoped>\n",
       "    .dataframe tbody tr th:only-of-type {\n",
       "        vertical-align: middle;\n",
       "    }\n",
       "\n",
       "    .dataframe tbody tr th {\n",
       "        vertical-align: top;\n",
       "    }\n",
       "\n",
       "    .dataframe thead th {\n",
       "        text-align: right;\n",
       "    }\n",
       "</style>\n",
       "<table border=\"1\" class=\"dataframe\">\n",
       "  <thead>\n",
       "    <tr style=\"text-align: right;\">\n",
       "      <th></th>\n",
       "      <th>Photo URL</th>\n",
       "      <th>Date Taken</th>\n",
       "      <th>Latitude</th>\n",
       "      <th>Longitude</th>\n",
       "      <th>tag</th>\n",
       "    </tr>\n",
       "  </thead>\n",
       "  <tbody>\n",
       "    <tr>\n",
       "      <th>0</th>\n",
       "      <td>https://live.staticflickr.com/65535/5364466156...</td>\n",
       "      <td>2024-04-03 01:00:03</td>\n",
       "      <td>0.0</td>\n",
       "      <td>0.0</td>\n",
       "      <td>street photography</td>\n",
       "    </tr>\n",
       "    <tr>\n",
       "      <th>1</th>\n",
       "      <td>https://live.staticflickr.com/65535/5364510244...</td>\n",
       "      <td>2023-05-05 19:53:29</td>\n",
       "      <td>0.0</td>\n",
       "      <td>0.0</td>\n",
       "      <td>street photography</td>\n",
       "    </tr>\n",
       "    <tr>\n",
       "      <th>2</th>\n",
       "      <td>https://live.staticflickr.com/65535/5364492362...</td>\n",
       "      <td>2024-04-10 05:25:15</td>\n",
       "      <td>0.0</td>\n",
       "      <td>0.0</td>\n",
       "      <td>street photography</td>\n",
       "    </tr>\n",
       "    <tr>\n",
       "      <th>3</th>\n",
       "      <td>https://live.staticflickr.com/65535/5364458762...</td>\n",
       "      <td>2023-01-11 16:06:00</td>\n",
       "      <td>0.0</td>\n",
       "      <td>0.0</td>\n",
       "      <td>street photography</td>\n",
       "    </tr>\n",
       "    <tr>\n",
       "      <th>4</th>\n",
       "      <td>https://live.staticflickr.com/65535/5364501548...</td>\n",
       "      <td>2024-04-06 13:15:45</td>\n",
       "      <td>0.0</td>\n",
       "      <td>0.0</td>\n",
       "      <td>street photography</td>\n",
       "    </tr>\n",
       "    <tr>\n",
       "      <th>...</th>\n",
       "      <td>...</td>\n",
       "      <td>...</td>\n",
       "      <td>...</td>\n",
       "      <td>...</td>\n",
       "      <td>...</td>\n",
       "    </tr>\n",
       "    <tr>\n",
       "      <th>3765</th>\n",
       "      <td>https://live.staticflickr.com/65535/5362560430...</td>\n",
       "      <td>2024-02-24 12:04:08</td>\n",
       "      <td>0.0</td>\n",
       "      <td>0.0</td>\n",
       "      <td>street photography</td>\n",
       "    </tr>\n",
       "    <tr>\n",
       "      <th>3766</th>\n",
       "      <td>https://live.staticflickr.com/65535/5362592869...</td>\n",
       "      <td>2024-02-24 12:04:02</td>\n",
       "      <td>0.0</td>\n",
       "      <td>0.0</td>\n",
       "      <td>street photography</td>\n",
       "    </tr>\n",
       "    <tr>\n",
       "      <th>3767</th>\n",
       "      <td>https://live.staticflickr.com/65535/5362560273...</td>\n",
       "      <td>2024-02-24 12:03:13</td>\n",
       "      <td>0.0</td>\n",
       "      <td>0.0</td>\n",
       "      <td>street photography</td>\n",
       "    </tr>\n",
       "    <tr>\n",
       "      <th>3768</th>\n",
       "      <td>https://live.staticflickr.com/65535/5362579744...</td>\n",
       "      <td>2024-02-24 12:02:29</td>\n",
       "      <td>0.0</td>\n",
       "      <td>0.0</td>\n",
       "      <td>street photography</td>\n",
       "    </tr>\n",
       "    <tr>\n",
       "      <th>3769</th>\n",
       "      <td>https://live.staticflickr.com/65535/5362579572...</td>\n",
       "      <td>2024-02-24 12:01:55</td>\n",
       "      <td>0.0</td>\n",
       "      <td>0.0</td>\n",
       "      <td>street photography</td>\n",
       "    </tr>\n",
       "  </tbody>\n",
       "</table>\n",
       "<p>1645 rows × 5 columns</p>\n",
       "</div>"
      ],
      "text/plain": [
       "                                              Photo URL           Date Taken  \\\n",
       "0     https://live.staticflickr.com/65535/5364466156...  2024-04-03 01:00:03   \n",
       "1     https://live.staticflickr.com/65535/5364510244...  2023-05-05 19:53:29   \n",
       "2     https://live.staticflickr.com/65535/5364492362...  2024-04-10 05:25:15   \n",
       "3     https://live.staticflickr.com/65535/5364458762...  2023-01-11 16:06:00   \n",
       "4     https://live.staticflickr.com/65535/5364501548...  2024-04-06 13:15:45   \n",
       "...                                                 ...                  ...   \n",
       "3765  https://live.staticflickr.com/65535/5362560430...  2024-02-24 12:04:08   \n",
       "3766  https://live.staticflickr.com/65535/5362592869...  2024-02-24 12:04:02   \n",
       "3767  https://live.staticflickr.com/65535/5362560273...  2024-02-24 12:03:13   \n",
       "3768  https://live.staticflickr.com/65535/5362579744...  2024-02-24 12:02:29   \n",
       "3769  https://live.staticflickr.com/65535/5362579572...  2024-02-24 12:01:55   \n",
       "\n",
       "      Latitude  Longitude                 tag  \n",
       "0          0.0        0.0  street photography  \n",
       "1          0.0        0.0  street photography  \n",
       "2          0.0        0.0  street photography  \n",
       "3          0.0        0.0  street photography  \n",
       "4          0.0        0.0  street photography  \n",
       "...        ...        ...                 ...  \n",
       "3765       0.0        0.0  street photography  \n",
       "3766       0.0        0.0  street photography  \n",
       "3767       0.0        0.0  street photography  \n",
       "3768       0.0        0.0  street photography  \n",
       "3769       0.0        0.0  street photography  \n",
       "\n",
       "[1645 rows x 5 columns]"
      ]
     },
     "execution_count": 16,
     "metadata": {},
     "output_type": "execute_result"
    }
   ],
   "source": [
    "df"
   ]
  },
  {
   "cell_type": "code",
   "execution_count": null,
   "metadata": {},
   "outputs": [
    {
     "data": {
      "text/plain": [
       "176"
      ]
     },
     "execution_count": 17,
     "metadata": {},
     "output_type": "execute_result"
    }
   ],
   "source": [
    "((df['Latitude'] != 0) & (df['Longitude'] != 0)).sum()"
   ]
  },
  {
   "cell_type": "code",
   "execution_count": null,
   "metadata": {},
   "outputs": [],
   "source": [
    "import cv2"
   ]
  },
  {
   "cell_type": "code",
   "execution_count": 4,
   "metadata": {},
   "outputs": [],
   "source": [
    "import pandas as pd"
   ]
  },
  {
   "cell_type": "code",
   "execution_count": 5,
   "metadata": {},
   "outputs": [],
   "source": [
    "df = pd.read_csv(\"flickr_data.csv\")"
   ]
  },
  {
   "cell_type": "code",
   "execution_count": 6,
   "metadata": {},
   "outputs": [
    {
     "name": "stdout",
     "output_type": "stream",
     "text": [
      "Model loaded successfully.\n",
      "0 images have been saved to /home/milena/Desktop/hackathon/thejackieproject\\output_folder.\n",
      "Model loaded successfully.\n",
      "0 images have been saved to /home/milena/Desktop/hackathon/thejackieproject\\output_folder.\n",
      "Model loaded successfully.\n",
      "0 images have been saved to /home/milena/Desktop/hackathon/thejackieproject\\output_folder.\n",
      "Model loaded successfully.\n",
      "Saving a human\n",
      "1 images have been saved to /home/milena/Desktop/hackathon/thejackieproject\\output_folder.\n",
      "Model loaded successfully.\n",
      "0 images have been saved to /home/milena/Desktop/hackathon/thejackieproject\\output_folder.\n",
      "Model loaded successfully.\n",
      "Saving a human\n",
      "1 images have been saved to /home/milena/Desktop/hackathon/thejackieproject\\output_folder.\n",
      "Model loaded successfully.\n",
      "Saving a human\n",
      "Saving a human\n",
      "2 images have been saved to /home/milena/Desktop/hackathon/thejackieproject\\output_folder.\n",
      "Model loaded successfully.\n",
      "0 images have been saved to /home/milena/Desktop/hackathon/thejackieproject\\output_folder.\n",
      "Model loaded successfully.\n",
      "Saving a human\n",
      "Saving a human\n",
      "2 images have been saved to /home/milena/Desktop/hackathon/thejackieproject\\output_folder.\n",
      "Model loaded successfully.\n",
      "0 images have been saved to /home/milena/Desktop/hackathon/thejackieproject\\output_folder.\n"
     ]
    }
   ],
   "source": [
    "from project2 import ImageClassification\n",
    "\n",
    "for x in range(0,10):\n",
    "    img_path = df.iloc[x][\"Photo URL\"]\n",
    "    ind = x\n",
    "    img_class = ImageClassification(image_url = img_path, idnr = ind)"
   ]
  },
  {
   "cell_type": "code",
   "execution_count": null,
   "metadata": {},
   "outputs": [],
   "source": []
  }
 ],
 "metadata": {
  "kernelspec": {
   "display_name": "jackavenv",
   "language": "python",
   "name": "python3"
  },
  "language_info": {
   "codemirror_mode": {
    "name": "ipython",
    "version": 3
   },
   "file_extension": ".py",
   "mimetype": "text/x-python",
   "name": "python",
   "nbconvert_exporter": "python",
   "pygments_lexer": "ipython3",
   "version": "3.11.2"
  }
 },
 "nbformat": 4,
 "nbformat_minor": 2
}
